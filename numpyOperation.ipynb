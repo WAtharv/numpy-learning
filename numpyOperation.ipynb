{
 "cells": [
  {
   "cell_type": "markdown",
   "id": "bbbcfd96",
   "metadata": {},
   "source": [
    "numpy array operations\n"
   ]
  },
  {
   "cell_type": "code",
   "execution_count": 1,
   "id": "a36052ec",
   "metadata": {},
   "outputs": [],
   "source": [
    "import numpy as np\n"
   ]
  },
  {
   "cell_type": "code",
   "execution_count": 2,
   "id": "bb9056bb",
   "metadata": {},
   "outputs": [
    {
     "name": "stdout",
     "output_type": "stream",
     "text": [
      "Basic Slicing [3 4 5 6 7]\n",
      "With steps [2 4 6 8]\n",
      "NEgative indexing 8\n"
     ]
    }
   ],
   "source": [
    "arr=np.array([1,2,3,4,5,6,7,8,9,10])\n",
    "print(\"Basic Slicing\", arr[2:7])\n",
    "print(\"With steps\",arr[1:8:2])\n",
    "print(\"NEgative indexing\",arr[-3])"
   ]
  },
  {
   "cell_type": "code",
   "execution_count": 5,
   "id": "919c3153",
   "metadata": {},
   "outputs": [
    {
     "name": "stdout",
     "output_type": "stream",
     "text": [
      "Specific elements 6\n",
      "Entire row:  [4 5 6]\n",
      "Entire row:  [2 5 8]\n"
     ]
    }
   ],
   "source": [
    "arr_2d = np.array([[1,2,3],\n",
    "                   [4,5,6],\n",
    "                   [7,8,9]])\n",
    "print(\"Specific elements\", arr_2d[1,2])\n",
    "print(\"Entire row: \",arr_2d[1])\n",
    "print(\"Entire row: \",arr_2d[:,1])\n",
    "\n",
    "\n",
    "\n"
   ]
  },
  {
   "cell_type": "markdown",
   "id": "40e6571a",
   "metadata": {},
   "source": [
    "sorting\n"
   ]
  },
  {
   "cell_type": "code",
   "execution_count": 10,
   "id": "efe9ad63",
   "metadata": {},
   "outputs": [
    {
     "name": "stdout",
     "output_type": "stream",
     "text": [
      "sorted array [2 2 2 2 3 4 5 6 7 9]\n",
      "Sorted 2d array by column [[1 1]\n",
      " [2 2]\n",
      " [3 3]]\n"
     ]
    }
   ],
   "source": [
    "unsorted=np.array([3,4,2,9,5,2,2,7,6,2,])\n",
    "print(\"sorted array\",np.sort(unsorted))\n",
    "\n",
    "arr_2d_unsorted =np.array([[3,1],[1,2],[2,3]])\n",
    "print(\"Sorted 2d array by column\",np.sort(arr_2d_unsorted,axis=0))"
   ]
  },
  {
   "cell_type": "markdown",
   "id": "56751c41",
   "metadata": {},
   "source": [
    "filter"
   ]
  },
  {
   "cell_type": "code",
   "execution_count": 11,
   "id": "4fb68a65",
   "metadata": {},
   "outputs": [
    {
     "name": "stdout",
     "output_type": "stream",
     "text": [
      "Even Numbers [ 2  4  6  8 10]\n"
     ]
    }
   ],
   "source": [
    "numbers=np.array([1,2,3,4,5,6,7,8,9,10])\n",
    "even_number = numbers[numbers%2==0]\n",
    "print(\"Even Numbers\",even_number)\n"
   ]
  },
  {
   "cell_type": "markdown",
   "id": "f274b843",
   "metadata": {},
   "source": [
    "filter with mask"
   ]
  },
  {
   "cell_type": "code",
   "execution_count": 12,
   "id": "a5fb98d4",
   "metadata": {},
   "outputs": [
    {
     "name": "stdout",
     "output_type": "stream",
     "text": [
      "Numbers greater than 5 [ 6  7  8  9 10]\n"
     ]
    }
   ],
   "source": [
    "mask = numbers>5\n",
    "print(\"Numbers greater than 5\",numbers[mask])\n"
   ]
  },
  {
   "cell_type": "markdown",
   "id": "e58208fc",
   "metadata": {},
   "source": [
    "fancy indexing vs np.where()"
   ]
  },
  {
   "cell_type": "code",
   "execution_count": null,
   "id": "630c6ddc",
   "metadata": {},
   "outputs": [],
   "source": [
    "indices= [0,2,4]\n",
    "print(numbers[indices])\n",
    "where_result=np.where(numbers>5)\n",
    "print(\"NP where\",numbers[where_result])"
   ]
  },
  {
   "cell_type": "code",
   "execution_count": 16,
   "id": "b4c98d46",
   "metadata": {},
   "outputs": [
    {
     "name": "stdout",
     "output_type": "stream",
     "text": [
      "[ 1  2  3  4  5 24 28 32 36 40]\n"
     ]
    }
   ],
   "source": [
    "condition_Array=np.where(numbers > 5, numbers*4,numbers)\n",
    "print(condition_Array)"
   ]
  },
  {
   "cell_type": "markdown",
   "id": "89748c52",
   "metadata": {},
   "source": [
    "adding and removing of data"
   ]
  },
  {
   "cell_type": "code",
   "execution_count": 18,
   "id": "9e9e3f21",
   "metadata": {},
   "outputs": [
    {
     "name": "stdout",
     "output_type": "stream",
     "text": [
      "[1 2 3 4 5 6]\n"
     ]
    }
   ],
   "source": [
    "arr1=np.array([1,2,3])\n",
    "arr2=np.array([4,5,6])\n",
    "combined =np.concatenate((arr1,arr2))\n",
    "print(combined)"
   ]
  },
  {
   "cell_type": "markdown",
   "id": "5a65aa9d",
   "metadata": {},
   "source": [
    "array compatibility\n"
   ]
  },
  {
   "cell_type": "code",
   "execution_count": 19,
   "id": "d8b15ac9",
   "metadata": {},
   "outputs": [
    {
     "name": "stdout",
     "output_type": "stream",
     "text": [
      "Compatiblity shapes True\n"
     ]
    }
   ],
   "source": [
    "a=np.array([1,2,3])\n",
    "b=np.array([4,5,6])\n",
    "c=np.array([7,8,9])\n",
    "print(\"Compatiblity shapes\", a.shape==b.shape)\n"
   ]
  },
  {
   "cell_type": "code",
   "execution_count": 30,
   "id": "f9af6d1e",
   "metadata": {},
   "outputs": [
    {
     "name": "stdout",
     "output_type": "stream",
     "text": [
      "[[1 2]\n",
      " [3 4]\n",
      " [5 6]]\n",
      "with new col [[1 2 7]\n",
      " [3 4 8]]\n"
     ]
    }
   ],
   "source": [
    "orginal=np.array([[1,2],[3,4]])\n",
    "new_row = np.array([[5,6]])\n",
    "with_new_row=np.vstack((orginal,new_row))\n",
    "# print(orginal)\n",
    "print(with_new_row)\n",
    "new_col=np.array([[7],[8]])\n",
    "with_new_col=np.hstack((orginal,new_col))\n",
    "print(\"with new col\", with_new_col)"
   ]
  },
  {
   "cell_type": "code",
   "execution_count": 31,
   "id": "68acbd04",
   "metadata": {},
   "outputs": [
    {
     "name": "stdout",
     "output_type": "stream",
     "text": [
      "[1 2 4 5 6]\n"
     ]
    }
   ],
   "source": [
    "arr=np.array([1,2,3,4,5,6])\n",
    "deleted=np.delete(arr,2)\n",
    "print(deleted)"
   ]
  },
  {
   "cell_type": "markdown",
   "id": "5d5e805a",
   "metadata": {},
   "source": [
    "advanced numpy "
   ]
  },
  {
   "cell_type": "code",
   "execution_count": 37,
   "id": "3ab93739",
   "metadata": {},
   "outputs": [
    {
     "name": "stdout",
     "output_type": "stream",
     "text": [
      "*** Zomato Sales analysis ***\n",
      "\n",
      " sales data shape (5, 5)\n",
      "\n",
      " Sample data for 1st 3 restaurant  [[150000 180000 220000 250000]\n",
      " [120000 140000 160000 190000]\n",
      " [200000 230000 260000 300000]\n",
      " [180000 210000 240000 270000]\n",
      " [160000 185000 205000 230000]]\n"
     ]
    }
   ],
   "source": [
    "# Data structure: [restaurant_id, 2021, 2022, 2023, 2024]\n",
    "sales_data = np.array([\n",
    "    [1, 150000, 180000, 220000, 250000],  # Paradise Biryani\n",
    "    [2, 120000, 140000, 160000, 190000],  # Beijing Bites\n",
    "    [3, 200000, 230000, 260000, 300000],  # Pizza Hub\n",
    "    [4, 180000, 210000, 240000, 270000],  # Burger Point\n",
    "    [5, 160000, 185000, 205000, 230000]   # Chai Point\n",
    "])\n",
    "print(\"*** Zomato Sales analysis ***\")\n",
    "print(\"\\n sales data shape\",sales_data.shape)\n",
    "print(\"\\n Sample data for 1st 3 restaurant \",sales_data[:, 1:])\n"
   ]
  },
  {
   "cell_type": "markdown",
   "id": "b95b4b8c",
   "metadata": {},
   "source": [
    "total sales per year"
   ]
  },
  {
   "cell_type": "code",
   "execution_count": 47,
   "id": "c74e1824",
   "metadata": {},
   "outputs": [
    {
     "name": "stdout",
     "output_type": "stream",
     "text": [
      "[     15  810000  945000 1085000 1240000]\n",
      "[ 810000  945000 1085000 1240000]\n",
      "[150000 120000 200000 180000 160000]\n",
      "[200000 230000 260000 300000]\n",
      "[200000. 152500. 247500. 225000. 195000.]\n"
     ]
    }
   ],
   "source": [
    "print(np.sum(sales_data,axis=0))\n",
    "yearly_total=np.sum(sales_data[:,1:], axis=0)\n",
    "print(yearly_total)\n",
    "\n",
    "#minimum sales per restaurant \n",
    "min_sales=np.min(sales_data[:, 1:],axis=1)\n",
    "print(min_sales)\n",
    "\n",
    "# maximum sales per year\n",
    "max_Sales=np.max(sales_data[:,1:],axis=0)\n",
    "print(max_Sales)\n",
    "\n",
    "#average sales per restaurant\n",
    "\n",
    "avg_sales =np.mean(sales_data[:,1:],axis=1)\n",
    "print(avg_sales)\n",
    "\n"
   ]
  },
  {
   "cell_type": "code",
   "execution_count": 48,
   "id": "f3f6ca25",
   "metadata": {},
   "outputs": [
    {
     "name": "stdout",
     "output_type": "stream",
     "text": [
      "[[150000 330000 550000 800000]\n",
      " [120000 260000 420000 610000]\n",
      " [200000 430000 690000 990000]\n",
      " [180000 390000 630000 900000]\n",
      " [160000 345000 550000 780000]]\n"
     ]
    }
   ],
   "source": [
    "#cumulative sum\n",
    "cumsum=np.cumsum(sales_data[:,1:],axis=1)\n",
    "print(cumsum)"
   ]
  },
  {
   "cell_type": "code",
   "execution_count": 52,
   "id": "51fc83a2",
   "metadata": {},
   "outputs": [
    {
     "name": "stdout",
     "output_type": "stream",
     "text": [
      "Vector add:  [ 7  9 11 13 15]\n",
      "Vector multiplication  [ 6 14 24 36 50]\n",
      "\n",
      " Dot product 130\n",
      "0.26554161733900966\n"
     ]
    }
   ],
   "source": [
    "vector1 =np.array([1,2,3,4,5])\n",
    "vector2=np.array([6,7,8,9,10])\n",
    "print(\"Vector add: \", vector1+vector2)\n",
    "print(\"Vector multiplication \", vector1*vector2)\n",
    "\n",
    "print(\"\\n Dot product\",np.dot(vector1,vector2))\n",
    "angle=np.arccos(np.dot(vector1,vector2)/(np.linalg.norm(vector1)*np.linalg.norm(vector2)))\n",
    "print(angle)"
   ]
  },
  {
   "cell_type": "code",
   "execution_count": 53,
   "id": "38c0d8a2",
   "metadata": {},
   "outputs": [
    {
     "name": "stdout",
     "output_type": "stream",
     "text": [
      "Vectorized Upper ['BIRYANI' 'CHINESE' 'PIZZA' 'BURGER' 'CAFE']\n"
     ]
    }
   ],
   "source": [
    "restaurant_types = np.array(['biryani', 'chinese', 'pizza', 'burger', 'cafe'])\n",
    "vectorized_upper =np.vectorize(str.upper)\n",
    "print(\"Vectorized Upper\",vectorized_upper(restaurant_types))"
   ]
  },
  {
   "cell_type": "code",
   "execution_count": 55,
   "id": "334db09d",
   "metadata": {},
   "outputs": [
    {
     "name": "stdout",
     "output_type": "stream",
     "text": [
      "[[12500.         15000.         18333.33333333 20833.33333333]\n",
      " [10000.         11666.66666667 13333.33333333 15833.33333333]\n",
      " [16666.66666667 19166.66666667 21666.66666667 25000.        ]\n",
      " [15000.         17500.         20000.         22500.        ]\n",
      " [13333.33333333 15416.66666667 17083.33333333 19166.66666667]]\n"
     ]
    }
   ],
   "source": [
    "monthly_avg=sales_data[:,1:] /12\n",
    "print(monthly_avg)"
   ]
  }
 ],
 "metadata": {
  "kernelspec": {
   "display_name": "Python 3",
   "language": "python",
   "name": "python3"
  },
  "language_info": {
   "codemirror_mode": {
    "name": "ipython",
    "version": 3
   },
   "file_extension": ".py",
   "mimetype": "text/x-python",
   "name": "python",
   "nbconvert_exporter": "python",
   "pygments_lexer": "ipython3",
   "version": "3.11.13"
  }
 },
 "nbformat": 4,
 "nbformat_minor": 5
}
