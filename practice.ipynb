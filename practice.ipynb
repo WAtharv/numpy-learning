{
 "cells": [
  {
   "cell_type": "markdown",
   "id": "54356cc0",
   "metadata": {},
   "source": [
    "this is pratice and revision for Numpy\n",
    "\n"
   ]
  },
  {
   "cell_type": "code",
   "execution_count": 2,
   "id": "709617e4",
   "metadata": {},
   "outputs": [],
   "source": [
    "import numpy as np"
   ]
  },
  {
   "cell_type": "code",
   "execution_count": null,
   "id": "22c29a3f",
   "metadata": {},
   "outputs": [
    {
     "name": "stdout",
     "output_type": "stream",
     "text": [
      "1D array:  [1 2 3 4]\n",
      "1D array:  [[1 2 3 4]\n",
      " [5 6 7 8]]\n",
      "Zeros:\n",
      " [[0. 0. 0.]\n",
      " [0. 0. 0.]]\n",
      "Ones: \n",
      " [[1. 1. 1.]\n",
      " [1. 1. 1.]\n",
      " [1. 1. 1.]]\n",
      "Range Array:  [0 2 4 6 8]\n",
      "Linspace array :  [ 0.   2.5  5.   7.5 10. ]\n"
     ]
    }
   ],
   "source": [
    "arr1=np.array([1,2,3,4])\n",
    "print(\"1D array: \",arr1)\n",
    "\n",
    "arr2=np.array([[1,2,3,4],[5,6,7,8]])\n",
    "print(\"1D array: \",arr2)\n",
    "\n",
    "zeros=np.zeros((2,3))\n",
    "print(\"Zeros:\\n\",zeros)\n",
    "\n",
    "ones=np.ones((3,3))\n",
    "print(\"Ones: \\n\",ones)\n",
    "\n",
    "range_arr=np.arange(0,10,2)\n",
    "print(\"Range Array: \",range_arr)\n",
    "\n",
    "linspace=np.linspace(0,10,5)\n",
    "print(\"Linspace array : \",linspace)"
   ]
  },
  {
   "cell_type": "code",
   "execution_count": 13,
   "id": "6c09c25b",
   "metadata": {},
   "outputs": [
    {
     "name": "stdout",
     "output_type": "stream",
     "text": [
      "Shape of arr2: (2, 4)\n",
      "Size of arr2: 8\n",
      "Data type of arr2: int64\n",
      "Shape of linspace: (5,)\n",
      "Size of linspace: 5\n",
      "Data type of linspace: float64\n"
     ]
    }
   ],
   "source": [
    "# Attributes of arr\n",
    "print(\"Shape of arr2:\", arr2.shape)  # (2, 3)\n",
    "print(\"Size of arr2:\", arr2.size)   # 6\n",
    "print(\"Data type of arr2:\", arr2.dtype)  # int32 (or similar)\n",
    "\n",
    "# Attributes of linspace\n",
    "print(\"Shape of linspace:\", linspace.shape)  # (5,)\n",
    "print(\"Size of linspace:\", linspace.size)   # 5\n",
    "print(\"Data type of linspace:\", linspace.dtype)"
   ]
  },
  {
   "cell_type": "code",
   "execution_count": 36,
   "id": "f7f32cea",
   "metadata": {},
   "outputs": [
    {
     "name": "stdout",
     "output_type": "stream",
     "text": [
      "[10, 20, 30, 40, 50]\n",
      "[[1 2 3]\n",
      " [4 5 6]\n",
      " [7 8 9]]\n",
      "[[0. 0.]\n",
      " [0. 0.]\n",
      " [0. 0.]]\n",
      "[[1. 1.]\n",
      " [1. 1.]\n",
      " [1. 1.]]\n"
     ]
    }
   ],
   "source": [
    "#practice 1\n",
    "\n",
    "oneD_array=([10,20,30,40,50])\n",
    "print(oneD_array)\n",
    "twod_arry=np.array([[1, 2, 3], [4, 5, 6], [7, 8, 9]])\n",
    "print(twod_arry)\n",
    "\n",
    "zero_arr=np.zeros((3,2))\n",
    "print(zero_arr)\n",
    "\n",
    "one_arr=np.ones((3,2))\n",
    "print(one_arr)\n"
   ]
  },
  {
   "cell_type": "code",
   "execution_count": 37,
   "id": "6552fdc7",
   "metadata": {},
   "outputs": [
    {
     "name": "stdout",
     "output_type": "stream",
     "text": [
      "[ 5  7  9 11 13 15]\n",
      "[ 0.  2.  4.  6.  8. 10.]\n"
     ]
    }
   ],
   "source": [
    "rangee=np.arange(5,16,2)\n",
    "print(rangee)\n",
    "\n",
    "Linespace=np.linspace(0,10,6)\n",
    "print(Linespace)"
   ]
  },
  {
   "cell_type": "code",
   "execution_count": 38,
   "id": "9244b7a2",
   "metadata": {},
   "outputs": [
    {
     "name": "stdout",
     "output_type": "stream",
     "text": [
      "shape: (3, 3)\n",
      "size: 9\n",
      "datatype: int64\n"
     ]
    }
   ],
   "source": [
    "print(\"shape:\", np.shape(twod_arry))\n",
    "print(\"size:\", np.size(twod_arry))\n",
    "print(\"datatype:\", twod_arry.dtype)"
   ]
  },
  {
   "cell_type": "markdown",
   "id": "780cf59a",
   "metadata": {},
   "source": []
  },
  {
   "cell_type": "code",
   "execution_count": 32,
   "id": "928262b1",
   "metadata": {},
   "outputs": [
    {
     "name": "stdout",
     "output_type": "stream",
     "text": [
      "[ 0  1  2  3  4  5  6  7  8  9 10 11]\n",
      "[[ 0  1  2  3]\n",
      " [ 4  5  6  7]\n",
      " [ 8  9 10 11]]\n"
     ]
    },
    {
     "data": {
      "text/plain": [
       "(3, 4)"
      ]
     },
     "execution_count": 32,
     "metadata": {},
     "output_type": "execute_result"
    }
   ],
   "source": [
    "Crange=np.arange(0,12)\n",
    "print(Crange)\n",
    "reshaped=Crange.reshape(3,4)\n",
    "print(reshaped)\n",
    "reshaped.size\n",
    "reshaped.shape"
   ]
  },
  {
   "cell_type": "code",
   "execution_count": 35,
   "id": "7b762536",
   "metadata": {},
   "outputs": [
    {
     "name": "stdout",
     "output_type": "stream",
     "text": [
      "shape: (3, 3)\n",
      "size: 9\n",
      "datatype: int64\n"
     ]
    }
   ],
   "source": [
    "import numpy as np\n",
    "\n",
    "# Define the 2D array\n",
    "twod_array = np.array([[1, 2, 3], [4, 5, 6], [7, 8, 9]])\n",
    "\n",
    "# Print attributes\n",
    "print(\"shape:\", twod_array.shape)\n",
    "print(\"size:\", twod_array.size)\n",
    "print(\"datatype:\", twod_array.dtype)"
   ]
  },
  {
   "cell_type": "code",
   "execution_count": 40,
   "id": "f3d88859",
   "metadata": {},
   "outputs": [
    {
     "name": "stdout",
     "output_type": "stream",
     "text": [
      "ADD 2 [3 4 5 6]\n",
      "multiply 2 [2 4 6 8]\n",
      "division 2 [0.5 1.  1.5 2. ]\n",
      "square 2 [ 1  4  9 16]\n"
     ]
    }
   ],
   "source": [
    "#array operations \n",
    "arr=np.array([1,2,3,4])\n",
    "print(\"ADD 2\",arr+2)\n",
    "print(\"multiply 2\",arr*2)\n",
    "print(\"division 2\",arr/2)\n",
    "print(\"square 2\",arr**2)\n",
    "\n"
   ]
  },
  {
   "cell_type": "code",
   "execution_count": 41,
   "id": "0fc58935",
   "metadata": {},
   "outputs": [
    {
     "name": "stdout",
     "output_type": "stream",
     "text": [
      "add arrays [5 7 9]\n",
      "multiply arrays [ 4 10 18]\n"
     ]
    }
   ],
   "source": [
    "#operation between array\n",
    "arr1=np.array([1,2,3])\n",
    "arr2=np.array([4,5,6])\n",
    "print(\"add arrays\",arr1+arr2)\n",
    "print(\"multiply arrays\",arr1*arr2)"
   ]
  },
  {
   "cell_type": "code",
   "execution_count": 42,
   "id": "8383c837",
   "metadata": {},
   "outputs": [
    {
     "name": "stdout",
     "output_type": "stream",
     "text": [
      "[[ 6  8]\n",
      " [10 12]]\n"
     ]
    },
    {
     "data": {
      "text/plain": [
       "array([[19, 22],\n",
       "       [43, 50]])"
      ]
     },
     "execution_count": 42,
     "metadata": {},
     "output_type": "execute_result"
    }
   ],
   "source": [
    "# 2D arrays\n",
    "A = np.array([[1, 2], [3, 4]])\n",
    "B = np.array([[5, 6], [7, 8]])\n",
    "print(A+B)\n",
    "np.dot(A,B)"
   ]
  },
  {
   "cell_type": "code",
   "execution_count": 43,
   "id": "4709d4cd",
   "metadata": {},
   "outputs": [
    {
     "name": "stdout",
     "output_type": "stream",
     "text": [
      "[[22 24 26]\n",
      " [28 30 32]]\n"
     ]
    }
   ],
   "source": [
    "#challenge question\n",
    "array=np.arange(1,7)\n",
    "Reshaped=array.reshape(2,3)\n",
    "addition_arr=(Reshaped+10)*2\n",
    "print(addition_arr)"
   ]
  },
  {
   "cell_type": "code",
   "execution_count": null,
   "id": "3e634290",
   "metadata": {},
   "outputs": [
    {
     "name": "stdout",
     "output_type": "stream",
     "text": [
      "Element at index 1: 20\n",
      "Element at row 0, column 1: 2\n",
      "Slice [1:3]: [20 30]\n",
      "First row: [1 2 3]\n",
      "Second column: [2 5]\n",
      "Subarray: [[2 3]\n",
      " [5 6]]\n"
     ]
    }
   ],
   "source": [
    "##indexing and slicing \n",
    "arr1 = np.array([10, 20, 30, 40])\n",
    "print(\"Element at index 1:\", arr1[1])\n",
    "\n",
    "arr2 = np.array([[1, 2, 3], [4, 5, 6]])\n",
    "print(\"Element at row 0, column 1:\", arr2[0, 1])\n",
    "# 1D array slicing\n",
    "print(\"Slice [1:3]:\", arr1[1:3])  \n",
    "\n",
    "# 2D array slicing\n",
    "print(\"First row:\", arr2[0, :]) \n",
    "print(\"Second column:\", arr2[:, 1])\n",
    "print(\"Subarray:\", arr2[0:2, 1:3])\n",
    "\n",
    "# Modify a single element\n",
    "arr1[2] = 99\n",
    "print(\"Modified arr1:\", arr1)  \n",
    "\n",
    "# Modify a slice\n",
    "arr2[1, :] = [7, 8, 9]\n",
    "print(\"Modified arr2:\\n\", arr2)  "
   ]
  },
  {
   "cell_type": "code",
   "execution_count": 59,
   "id": "90d34c1f",
   "metadata": {},
   "outputs": [
    {
     "name": "stdout",
     "output_type": "stream",
     "text": [
      "[[ 1  2  3  4]\n",
      " [ 5  6  7  8]\n",
      " [ 9 10 11 12]]\n",
      "[[1 2 3]\n",
      " [5 6 7]]\n",
      "[[ 1  2  3]\n",
      " [ 5  6 99]]\n"
     ]
    }
   ],
   "source": [
    "# Challenge Question:\n",
    "# Create a 1D array with values from 1 to 12 using np.arange().\n",
    "# Reshape it into a 3x4 array.\n",
    "# Extract the first two rows and the first three columns (resulting in a 2x3 array).\n",
    "# Modify the element at row 1, column 2 of the extracted array to 99.\n",
    "# Print the modified extracted array, its shape, and its size.\n",
    "\n",
    "Array_1D=np.arange(1,13)\n",
    "Array_reshaped=Array_1D.reshape(3,4)\n",
    "print(Array_reshaped)\n",
    "Extracted_rC=Array_reshaped[0:2,0:3]\n",
    "print(Extracted_rC)\n",
    "Extracted_rC[1,2]=99\n",
    "print(Extracted_rC)\n"
   ]
  },
  {
   "cell_type": "code",
   "execution_count": 61,
   "id": "8d920cd1",
   "metadata": {},
   "outputs": [
    {
     "name": "stdout",
     "output_type": "stream",
     "text": [
      "Square root: [1. 2. 3.]\n",
      "sine: [ 0.84147098 -0.7568025   0.41211849]\n",
      "exponential: [2.71828183e+00 5.45981500e+01 8.10308393e+03]\n",
      "natural log: [0.         1.38629436 2.19722458]\n"
     ]
    }
   ],
   "source": [
    "# Mathematical Functions\n",
    "arr=np.array([1,4,9])\n",
    "print(\"Square root:\", np.sqrt(arr))\n",
    "print(\"sine:\", np.sin(arr))\n",
    "print(\"exponential:\", np.exp(arr))\n",
    "print(\"natural log:\", np.log(arr))\n"
   ]
  },
  {
   "cell_type": "code",
   "execution_count": 63,
   "id": "a1469425",
   "metadata": {},
   "outputs": [
    {
     "name": "stdout",
     "output_type": "stream",
     "text": [
      "Sum: 21\n",
      "Mean: 3.5\n",
      "Standard deviation: 1.707825127659933\n",
      "Sum along rows (axis=0): [5 7 9]\n",
      "Mean along columns (axis=1): [2. 5.]\n"
     ]
    }
   ],
   "source": [
    "# Statistical Functions\n",
    "arr2 = np.array([[1, 2, 3], [4, 5, 6]])\n",
    "\n",
    "print(\"Sum:\", np.sum(arr2))      \n",
    "print(\"Mean:\", np.mean(arr2))     \n",
    "print(\"Standard deviation:\", np.std(arr2))\n",
    "\n",
    "# Statistical functions along an axis\n",
    "print(\"Sum along rows (axis=0):\", np.sum(arr2, axis=0))  \n",
    "print(\"Mean along columns (axis=1):\", np.mean(arr2, axis=1))  "
   ]
  },
  {
   "cell_type": "code",
   "execution_count": 68,
   "id": "ce255555",
   "metadata": {},
   "outputs": [
    {
     "name": "stdout",
     "output_type": "stream",
     "text": [
      "[[  1   4   9  16]\n",
      " [ 25  36  49  64]\n",
      " [ 81 100 121 144]]\n",
      "[35.66666667 46.66666667 59.66666667 74.66666667]\n",
      "[5. 6. 7. 8.]\n"
     ]
    }
   ],
   "source": [
    "'''Challenge Question:\n",
    "Create a 1D array with values from 1 to 12 using np.arange().\n",
    "Reshape it into a 3x4 array.\n",
    "Compute the square of each element in the array.\n",
    "Calculate the mean of each column (along axis=0).\n",
    "Print the squared array, the column means, and the shape of the squared array.'''\n",
    "\n",
    "array=np.arange(1,13)\n",
    "reshaped_Arr=array.reshape(3,4)\n",
    "sqed_arr=np.square(reshaped_Arr)\n",
    "print(sqed_arr)\n",
    "array_mean0=np.mean(sqed_arr,axis=0)\n",
    "array_meann0=np.mean(reshaped_Arr,axis=0)\n",
    "print(array_mean0)\n",
    "print(array_meann0)\n"
   ]
  },
  {
   "cell_type": "code",
   "execution_count": 69,
   "id": "b170e332",
   "metadata": {},
   "outputs": [
    {
     "name": "stdout",
     "output_type": "stream",
     "text": [
      "[6 7 8]\n"
     ]
    }
   ],
   "source": [
    "import numpy as np\n",
    "arr = np.array([1, 2, 3])\n",
    "result = arr + 5  # 5 is \"stretched\" to [5, 5, 5]\n",
    "print(result)  # [6, 7, 8]"
   ]
  },
  {
   "cell_type": "code",
   "execution_count": 70,
   "id": "911bbd9c",
   "metadata": {},
   "outputs": [
    {
     "name": "stdout",
     "output_type": "stream",
     "text": [
      "[[11 22 33]\n",
      " [14 25 36]]\n"
     ]
    }
   ],
   "source": [
    "arr2d = np.array([[1, 2, 3], [4, 5, 6]])  # Shape (2, 3)\n",
    "arr1d = np.array([10, 20, 30])           # Shape (3,)\n",
    "result = arr2d + arr1d                    # arr1d stretched to [[10, 20, 30], [10, 20, 30]]\n",
    "print(result)\n",
    "# [[11, 22, 33]\n",
    "#  [14, 25, 36]]"
   ]
  },
  {
   "cell_type": "markdown",
   "id": "154f0df5",
   "metadata": {},
   "source": [
    "stacking\n"
   ]
  },
  {
   "cell_type": "code",
   "execution_count": 72,
   "id": "95371857",
   "metadata": {},
   "outputs": [
    {
     "name": "stdout",
     "output_type": "stream",
     "text": [
      "Vertical Stack:\n",
      " [[1 2 3]\n",
      " [4 5 6]]\n",
      "Horizontal Stack:\n",
      " [[1 4]\n",
      " [2 5]\n",
      " [3 6]]\n"
     ]
    }
   ],
   "source": [
    "a = np.array([1, 2, 3])\n",
    "b = np.array([4, 5, 6])\n",
    "# Vertical stacking (treats 1D arrays as rows)\n",
    "vstacked = np.vstack((a, b))\n",
    "print(\"Vertical Stack:\\n\", vstacked)\n",
    "\n",
    "# Horizontal stacking (requires reshaping 1D arrays to 2D columns)\n",
    "a_col = a.reshape(-1, 1)\n",
    "b_col = b.reshape(-1, 1)\n",
    "hstacked = np.hstack((a_col, b_col))\n",
    "print(\"Horizontal Stack:\\n\", hstacked)"
   ]
  },
  {
   "cell_type": "code",
   "execution_count": 73,
   "id": "234deeb5",
   "metadata": {},
   "outputs": [
    {
     "name": "stdout",
     "output_type": "stream",
     "text": [
      "Concatenate (axis=0):\n",
      " [[1 2]\n",
      " [3 4]\n",
      " [5 6]\n",
      " [7 8]]\n",
      "Concatenate (axis=1):\n",
      " [[1 2 5 6]\n",
      " [3 4 7 8]]\n"
     ]
    }
   ],
   "source": [
    "c = np.array([[1, 2], [3, 4]])\n",
    "d = np.array([[5, 6], [7, 8]])\n",
    "\n",
    "concat_axis0 = np.concatenate((c, d), axis=0)\n",
    "print(\"Concatenate (axis=0):\\n\", concat_axis0)\n",
    "\n",
    "concat_axis1 = np.concatenate((c, d), axis=1)\n",
    "print(\"Concatenate (axis=1):\\n\", concat_axis1)"
   ]
  },
  {
   "cell_type": "code",
   "execution_count": 78,
   "id": "9e621482",
   "metadata": {},
   "outputs": [
    {
     "name": "stdout",
     "output_type": "stream",
     "text": [
      "[[ 1  2  3]\n",
      " [ 4  5  6]\n",
      " [ 7  8  9]\n",
      " [10 11 12]]\n",
      "\n",
      "First split array:\n",
      " [[1 2 3]\n",
      " [4 5 6]]\n",
      "\n",
      "Second split array:\n",
      " [[ 7  8  9]\n",
      " [10 11 12]]\n"
     ]
    }
   ],
   "source": [
    "'''Create two 1D arrays with values from 1 to 6 (np.arange(1, 7)) and 7 to 12 (np.arange(7, 13)).\n",
    "Reshape both into 2x3 arrays.\n",
    "Stack them vertically to create a 4x3 array.\n",
    "Split the resulting array into 2 equal parts along axis=0.\n",
    "Print the stacked array, the split arrays, and the shape of the first split array.'''\n",
    "\n",
    "arr1=np.arange(1,7)\n",
    "arr2=np.arange(7,13)\n",
    "Rarr1=arr1.reshape(2,3)\n",
    "Rarr2=arr2.reshape(2,3)\n",
    "vStacked=np.vstack((Rarr1,Rarr2))\n",
    "print(vStacked)\n",
    "\n",
    "split_array=np.split(vStacked,2,axis=0)\n",
    "print(\"\\nFirst split array:\\n\", split_array[0])\n",
    "print(\"\\nSecond split array:\\n\", split_array[1])"
   ]
  },
  {
   "cell_type": "code",
   "execution_count": 79,
   "id": "37130097",
   "metadata": {},
   "outputs": [
    {
     "name": "stdout",
     "output_type": "stream",
     "text": [
      "2x3 uniform [0, 1):\n",
      " [[0.37454012 0.95071431 0.73199394]\n",
      " [0.59865848 0.15601864 0.15599452]]\n",
      "2x2 standard normal:\n",
      " [[ 1.57921282  0.76743473]\n",
      " [-0.46947439  0.54256004]]\n",
      "2x3 integers [1, 10):\n",
      " [[5 1 6]\n",
      " [9 1 3]]\n",
      "Sample 3 elements with replacement: [40 40 10]\n",
      "Shuffled array: [20 40 50 10 30]\n",
      "Permuted array: [40 20 30 10 50]\n",
      "2x2 uniform [5, 10):\n",
      " [[9.74442769 9.82816017]\n",
      " [9.04198674 6.52306885]]\n",
      "1x3 normal (mean=10, std=2):\n",
      " [10.582068    8.72888052  7.95689561]\n",
      "1x3 Poisson (lam=4):\n",
      " [1 5 7]\n"
     ]
    }
   ],
   "source": [
    "\n",
    "\n",
    "# Set seed for reproducibility\n",
    "np.random.seed(42)\n",
    "\n",
    "# 1. Basic Random Number Generators\n",
    "print(\"2x3 uniform [0, 1):\\n\", np.random.rand(2, 3))\n",
    "# Output: [[0.37454012, 0.95071431, 0.73199394],\n",
    "#          [0.59865848, 0.15601864, 0.15599452]]\n",
    "\n",
    "print(\"2x2 standard normal:\\n\", np.random.randn(2, 2))\n",
    "# Output: [[ 0.05808361,  0.86617615],\n",
    "#          [ 0.60111501, -1.01283112]]\n",
    "\n",
    "print(\"2x3 integers [1, 10):\\n\", np.random.randint(1, 10, (2, 3)))\n",
    "# Output: [[6, 3, 7],\n",
    "#          [4, 6, 9]]\n",
    "\n",
    "# 2. Sampling and Shuffling\n",
    "arr = np.array([10, 20, 30, 40, 50])\n",
    "print(\"Sample 3 elements with replacement:\", np.random.choice(arr, 3))\n",
    "# Output: [30, 10, 40] (varies without seed)\n",
    "\n",
    "# Shuffle in place\n",
    "arr_copy = arr.copy()  # Preserve original\n",
    "np.random.shuffle(arr_copy)\n",
    "print(\"Shuffled array:\", arr_copy)\n",
    "# Output: e.g., [20, 50, 10, 40, 30]\n",
    "\n",
    "# Permutation (copy)\n",
    "print(\"Permuted array:\", np.random.permutation(arr))\n",
    "# Output: e.g., [40, 10, 50, 30, 20]\n",
    "\n",
    "# 3. Probability Distributions\n",
    "print(\"2x2 uniform [5, 10):\\n\", np.random.uniform(5, 10, (2, 2)))\n",
    "# Output: e.g., [[6.87230106, 9.75357154],\n",
    "#                [7.99532932, 6.09966281]]\n",
    "\n",
    "print(\"1x3 normal (mean=10, std=2):\\n\", np.random.normal(10, 2, 3))\n",
    "# Output: e.g., [10.44386323,  9.27774428, 11.36463088]\n",
    "\n",
    "print(\"1x3 Poisson (lam=4):\\n\", np.random.poisson(4, 3))\n",
    "# Output: e.g., [4, 3, 5] (varies without seed)"
   ]
  },
  {
   "cell_type": "code",
   "execution_count": null,
   "id": "f88accfc",
   "metadata": {},
   "outputs": [],
   "source": []
  }
 ],
 "metadata": {
  "kernelspec": {
   "display_name": "Python 3",
   "language": "python",
   "name": "python3"
  },
  "language_info": {
   "codemirror_mode": {
    "name": "ipython",
    "version": 3
   },
   "file_extension": ".py",
   "mimetype": "text/x-python",
   "name": "python",
   "nbconvert_exporter": "python",
   "pygments_lexer": "ipython3",
   "version": "3.11.13"
  }
 },
 "nbformat": 4,
 "nbformat_minor": 5
}
