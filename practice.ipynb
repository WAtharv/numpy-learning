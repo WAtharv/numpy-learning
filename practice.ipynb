{
 "cells": [
  {
   "cell_type": "markdown",
   "id": "54356cc0",
   "metadata": {},
   "source": [
    "this is pratice and revision for Numpy\n",
    "\n"
   ]
  },
  {
   "cell_type": "code",
   "execution_count": 2,
   "id": "709617e4",
   "metadata": {},
   "outputs": [],
   "source": [
    "import numpy as np"
   ]
  },
  {
   "cell_type": "code",
   "execution_count": 4,
   "id": "22c29a3f",
   "metadata": {},
   "outputs": [
    {
     "name": "stdout",
     "output_type": "stream",
     "text": [
      "1D array:  [1 2 3 4]\n",
      "1D array:  [[1 2 3 4]\n",
      " [5 6 7 8]]\n",
      "Zeros: [[0. 0. 0.]\n",
      " [0. 0. 0.]]\n"
     ]
    }
   ],
   "source": [
    "arr1=np.array([1,2,3,4])\n",
    "print(\"1D array: \",arr1)\n",
    "\n",
    "arr2=np.array([[1,2,3,4],[5,6,7,8]])\n",
    "print(\"1D array: \",arr2)\n",
    "\n",
    "zeros=np.zeros((2,3))\n",
    "print(\"Zeros:\",zeros)\n",
    "\n"
   ]
  },
  {
   "cell_type": "markdown",
   "id": "780cf59a",
   "metadata": {},
   "source": []
  }
 ],
 "metadata": {
  "kernelspec": {
   "display_name": "Python 3",
   "language": "python",
   "name": "python3"
  },
  "language_info": {
   "codemirror_mode": {
    "name": "ipython",
    "version": 3
   },
   "file_extension": ".py",
   "mimetype": "text/x-python",
   "name": "python",
   "nbconvert_exporter": "python",
   "pygments_lexer": "ipython3",
   "version": "3.11.13"
  }
 },
 "nbformat": 4,
 "nbformat_minor": 5
}
