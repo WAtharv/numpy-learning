{
 "cells": [
  {
   "cell_type": "markdown",
   "id": "5cdf121a",
   "metadata": {},
   "source": [
    "numpy foundations \n",
    "\n"
   ]
  },
  {
   "cell_type": "markdown",
   "id": "0c7b72f9",
   "metadata": {},
   "source": [
    "numpy and practice\n"
   ]
  },
  {
   "cell_type": "code",
   "execution_count": 5,
   "id": "9d95c4b7",
   "metadata": {},
   "outputs": [],
   "source": [
    "import numpy as np "
   ]
  },
  {
   "cell_type": "markdown",
   "id": "cff0e3bc",
   "metadata": {},
   "source": [
    "##Creting array from list"
   ]
  },
  {
   "cell_type": "code",
   "execution_count": 7,
   "id": "d18d4772",
   "metadata": {},
   "outputs": [
    {
     "name": "stdout",
     "output_type": "stream",
     "text": [
      "[1 2 3 4 5 6]\n",
      "2D array:  [[1 2 3]\n",
      " [4 5 6]]\n"
     ]
    }
   ],
   "source": [
    "arr_1d=np.array([1,2,3,4,5,6])\n",
    "print(arr_1d)\n",
    "\n",
    "arr_2d=np.array([[1,2,3],[4,5,6]])\n",
    "print(\"2D array: \", arr_2d)"
   ]
  },
  {
   "cell_type": "markdown",
   "id": "47dbfae9",
   "metadata": {},
   "source": [
    "difference between list vs numpy array \n"
   ]
  },
  {
   "cell_type": "code",
   "execution_count": 9,
   "id": "8beb1f0d",
   "metadata": {},
   "outputs": [
    {
     "name": "stdout",
     "output_type": "stream",
     "text": [
      "python list multiplication [1, 2, 3, 1, 2, 3]\n",
      "Python array Multiplication [2 4 6]\n",
      "\n",
      " List operation time :  0.08979249000549316\n",
      "\n",
      " numpy operation time :  0.009531259536743164\n"
     ]
    }
   ],
   "source": [
    "py_list=[1,2,3]\n",
    "print(\"python list multiplication\", py_list*2)\n",
    "\n",
    "\n",
    "np_array =np.array([1,2,3]) #element wise multiplication \n",
    "print(\"Python array Multiplication\" ,np_array*2 )\n",
    "\n",
    "\n",
    "import time \n",
    "start=time.time()\n",
    "py_list=[i*2 for i in range (1000000)]\n",
    "print(\"\\n List operation time : \",time.time()-start )\n",
    "\n",
    "start=time.time()\n",
    "np_array=np.arange(1000000)*2\n",
    "print(\"\\n numpy operation time : \",time.time()-start )\n"
   ]
  },
  {
   "cell_type": "markdown",
   "id": "a6786705",
   "metadata": {},
   "source": [
    "creating array from scratch \n"
   ]
  },
  {
   "cell_type": "code",
   "execution_count": 11,
   "id": "73ef16be",
   "metadata": {},
   "outputs": [
    {
     "name": "stdout",
     "output_type": "stream",
     "text": [
      "zeros array: \n",
      " [[0. 0. 0. 0.]\n",
      " [0. 0. 0. 0.]\n",
      " [0. 0. 0. 0.]]\n"
     ]
    }
   ],
   "source": [
    "zeros=np.zeros((3,4))\n",
    "print(\"zeros array: \\n\", zeros)"
   ]
  },
  {
   "cell_type": "code",
   "execution_count": 15,
   "id": "d75d5777",
   "metadata": {},
   "outputs": [
    {
     "name": "stdout",
     "output_type": "stream",
     "text": [
      "Ones array : \n",
      " [[1. 1. 1. 1. 1. 1.]\n",
      " [1. 1. 1. 1. 1. 1.]\n",
      " [1. 1. 1. 1. 1. 1.]]\n",
      "full array:\n",
      " [[7 7]\n",
      " [7 7]]\n",
      "random array:\n",
      " [[0.67461063 0.50736123 0.4572034 ]\n",
      " [0.82473839 0.96433615 0.15161835]]\n",
      "sequence array:\n",
      " [0 2 4 6 8]\n"
     ]
    }
   ],
   "source": [
    "ones=np.ones((3,6))\n",
    "print(\"Ones array : \\n\",ones)\n",
    "\n",
    "full=np.full((2,2),7)\n",
    "print(\"full array:\\n\",full)\n",
    "\n",
    "random=np.random.random((2,3))\n",
    "print(\"random array:\\n\",random)\n",
    "\n",
    "sequence=np.arange(0,10,2)\n",
    "print(\"sequence array:\\n\",sequence)"
   ]
  },
  {
   "cell_type": "markdown",
   "id": "b96643ac",
   "metadata": {},
   "source": [
    "vector ,matrix and tensor "
   ]
  },
  {
   "cell_type": "code",
   "execution_count": 18,
   "id": "0e1c3632",
   "metadata": {},
   "outputs": [
    {
     "name": "stdout",
     "output_type": "stream",
     "text": [
      "vector: [1 2 3]\n",
      "matrix: [[1 2 3]\n",
      " [4 5 6]\n",
      " [7 8 9]]\n",
      "tensor: [[[1 2]\n",
      "  [3 4]]\n",
      "\n",
      " [[5 6]\n",
      "  [7 8]]]\n"
     ]
    }
   ],
   "source": [
    "vector=np.array([1,2,3])\n",
    "print(\"vector:\",vector)\n",
    "\n",
    "matrix=np.array([[1,2,3],\n",
    "                 [4,5,6],\n",
    "                 [7,8,9]])\n",
    "print(\"matrix:\",matrix)\n",
    "\n",
    "tensor=np.array([[[1,2],[3,4]],\n",
    "                 [[5,6],[7,8]]]) \n",
    "print(\"tensor:\",tensor)\n"
   ]
  },
  {
   "cell_type": "markdown",
   "id": "e6cc68bb",
   "metadata": {},
   "source": [
    "array properties\n"
   ]
  },
  {
   "cell_type": "code",
   "execution_count": 20,
   "id": "7b94261b",
   "metadata": {},
   "outputs": [
    {
     "name": "stdout",
     "output_type": "stream",
     "text": [
      "shape (2, 3)\n",
      "Dimension 2\n",
      "size 6\n",
      "Dtype int64\n"
     ]
    }
   ],
   "source": [
    "arr=np.array([[1,2,3],\n",
    "             [4,5,6]])\n",
    "print(\"shape\",arr.shape)\n",
    "print(\"Dimension\",arr.ndim)\n",
    "print(\"size\",arr.size)\n",
    "print(\"Dtype\",arr.dtype)"
   ]
  },
  {
   "cell_type": "markdown",
   "id": "626a3f60",
   "metadata": {},
   "source": [
    "array reshaping \n"
   ]
  },
  {
   "cell_type": "code",
   "execution_count": null,
   "id": "ebe463fd",
   "metadata": {},
   "outputs": [
    {
     "name": "stdout",
     "output_type": "stream",
     "text": [
      "original array  [ 0  1  2  3  4  5  6  7  8  9 10 11]\n",
      "reshaped array  [[ 0  1  2  3]\n",
      " [ 4  5  6  7]\n",
      " [ 8  9 10 11]]\n",
      "flatened array  [ 0  1  2  3  4  5  6  7  8  9 10 11]\n",
      "raveled array  [ 0  1  2  3  4  5  6  7  8  9 10 11]\n",
      "transposed array  [[ 0  4  8]\n",
      " [ 1  5  9]\n",
      " [ 2  6 10]\n",
      " [ 3  7 11]] ,\n"
     ]
    }
   ],
   "source": [
    "arr=np.arange(12)\n",
    "print(\"original array \",arr)\n",
    "\n",
    "reshaped=arr.reshape((3,4))\n",
    "print(\"reshaped array \",reshaped)\n",
    "\n",
    "flattened=reshaped.flatten()\n",
    "print(\"flatened array \",flattened)\n",
    "\n",
    "raveled=reshaped.ravel()\n",
    "print(\"raveled array \",raveled)\n",
    "\n",
    "#Transpose \n",
    "transpose=reshaped.T\n",
    "print(\"transposed array \",transpose)\n",
    "\n"
   ]
  },
  {
   "cell_type": "code",
   "execution_count": null,
   "id": "e020a098",
   "metadata": {},
   "outputs": [],
   "source": []
  }
 ],
 "metadata": {
  "kernelspec": {
   "display_name": "Python 3",
   "language": "python",
   "name": "python3"
  },
  "language_info": {
   "codemirror_mode": {
    "name": "ipython",
    "version": 3
   },
   "file_extension": ".py",
   "mimetype": "text/x-python",
   "name": "python",
   "nbconvert_exporter": "python",
   "pygments_lexer": "ipython3",
   "version": "3.11.13"
  }
 },
 "nbformat": 4,
 "nbformat_minor": 5
}
